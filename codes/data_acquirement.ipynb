{
 "cells": [
  {
   "cell_type": "code",
   "execution_count": 18,
   "metadata": {},
   "outputs": [
    {
     "name": "stdout",
     "output_type": "stream",
     "text": [
      "{'foods': {'food': [{'brand_name': 'Shirakiku', 'food_description': 'Per 7 pieces - Calories: 240kcal | Fat: 8.00g | Carbs: 34.00g | Protein: 9.00g', 'food_id': '46827300', 'food_name': 'Pork Gyoza', 'food_type': 'Brand', 'food_url': 'https://www.fatsecret.com/calories-nutrition/shirakiku/pork-gyoza'}, {'brand_name': 'Hungry Planet', 'food_description': 'Per 4 gyoza - Calories: 120kcal | Fat: 2.50g | Carbs: 17.00g | Protein: 7.00g', 'food_id': '58704864', 'food_name': 'Gyoza', 'food_type': 'Brand', 'food_url': 'https://www.fatsecret.com/calories-nutrition/hungry-planet/gyoza'}, {'brand_name': 'Yoshinoya', 'food_description': 'Per 5 pieces - Calories: 250kcal | Fat: 11.00g | Carbs: 30.00g | Protein: 7.00g', 'food_id': '68848666', 'food_name': 'Gyoza', 'food_type': 'Brand', 'food_url': 'https://www.fatsecret.com/calories-nutrition/yoshinoya/gyoza'}, {'brand_name': 'Okami', 'food_description': 'Per 6 pieces with 1 tbsp sauce - Calories: 270kcal | Fat: 4.00g | Carbs: 34.00g | Protein: 12.00g', 'food_id': '3721196', 'food_name': 'Chicken Gyoza', 'food_type': 'Brand', 'food_url': 'https://www.fatsecret.com/calories-nutrition/okami/chicken-gyoza'}, {'brand_name': 'Yoshinoya', 'food_description': 'Per 6 pieces  - Calories: 210kcal | Fat: 7.00g | Carbs: 29.00g | Protein: 8.30g', 'food_id': '1467962', 'food_name': 'Teriyaki Gyoza', 'food_type': 'Brand', 'food_url': 'https://www.fatsecret.com/calories-nutrition/yoshinoya/teriyaki-gyoza'}, {'brand_name': \"Trader Joe's\", 'food_description': 'Per 8 potstickers - Calories: 200kcal | Fat: 3.50g | Carbs: 38.00g | Protein: 7.00g', 'food_id': '54376', 'food_name': 'Vegetable Gyoza Potstickers', 'food_type': 'Brand', 'food_url': 'https://www.fatsecret.com/calories-nutrition/trader-joes/vegetable-gyoza-potstickers'}, {'brand_name': \"Trader Joe's\", 'food_description': 'Per 7 potstickers - Calories: 230kcal | Fat: 6.00g | Carbs: 32.00g | Protein: 10.00g', 'food_id': '2187842', 'food_name': 'Pork Gyoza Potstickers', 'food_type': 'Brand', 'food_url': 'https://www.fatsecret.com/calories-nutrition/trader-joes/pork-gyoza-potstickers'}, {'brand_name': 'Daylee Pride', 'food_description': 'Per 8 pieces - Calories: 240kcal | Fat: 8.00g | Carbs: 32.00g | Protein: 10.00g', 'food_id': '6826188', 'food_name': 'Pork Gyoza Potstickers', 'food_type': 'Brand', 'food_url': 'https://www.fatsecret.com/calories-nutrition/daylee-pride/pork-gyoza-potstickers'}, {'brand_name': \"Trader Joe's\", 'food_description': 'Per 3 pieces - Calories: 180kcal | Fat: 7.00g | Carbs: 23.00g | Protein: 6.00g', 'food_id': '84011', 'food_name': 'Thai Shrimp Gyoza', 'food_type': 'Brand', 'food_url': 'https://www.fatsecret.com/calories-nutrition/trader-joes/thai-shrimp-gyoza'}, {'brand_name': 'Ajinomoto', 'food_description': 'Per 7 pieces - Calories: 290kcal | Fat: 16.00g | Carbs: 26.00g | Protein: 10.00g', 'food_id': '107507', 'food_name': 'Pork & Chicken Gyoza Dumplings', 'food_type': 'Brand', 'food_url': 'https://www.fatsecret.com/calories-nutrition/ajinomoto/pork-and-chicken-gyoza-dumplings'}, {'brand_name': \"Tokyo Joe's\", 'food_description': 'Per 1 serving - Calories: 130kcal | Fat: 4.50g | Carbs: 17.00g | Protein: 5.50g', 'food_id': '515347', 'food_name': 'Gyoza', 'food_type': 'Brand', 'food_url': 'https://www.fatsecret.com/calories-nutrition/tokyo-joes/gyoza'}, {'brand_name': \"Trader Joe's\", 'food_description': 'Per 3 pieces - Calories: 160kcal | Fat: 5.00g | Carbs: 25.00g | Protein: 4.00g', 'food_id': '105449', 'food_name': 'Thai Vegetable Gyoza', 'food_type': 'Brand', 'food_url': 'https://www.fatsecret.com/calories-nutrition/trader-joes/thai-vegetable-gyoza'}, {'brand_name': \"Trader Joe's\", 'food_description': 'Per 2 tbsp - Calories: 30kcal | Fat: 1.00g | Carbs: 6.00g | Protein: 1.00g', 'food_id': '2757698', 'food_name': 'Gyoza Dipping Sauce', 'food_type': 'Brand', 'food_url': 'https://www.fatsecret.com/calories-nutrition/trader-joes/gyoza-dipping-sauce'}, {'brand_name': 'Wegmans', 'food_description': 'Per 1 package - Calories: 230kcal | Fat: 9.00g | Carbs: 28.00g | Protein: 10.00g', 'food_id': '15708660', 'food_name': 'Chicken Gyoza', 'food_type': 'Brand', 'food_url': 'https://www.fatsecret.com/calories-nutrition/wegmans/chicken-gyoza'}, {'brand_name': 'Surasang', 'food_description': 'Per 8 pieces - Calories: 210kcal | Fat: 6.00g | Carbs: 32.00g | Protein: 8.00g', 'food_id': '57670843', 'food_name': 'Kimchi Gyoza', 'food_type': 'Brand', 'food_url': 'https://www.fatsecret.com/calories-nutrition/surasang/kimchi-gyoza'}, {'brand_name': \"Trader Joe's\", 'food_description': 'Per 3 pieces - Calories: 230kcal | Fat: 9.00g | Carbs: 31.00g | Protein: 7.00g', 'food_id': '28299839', 'food_name': 'Spicy Salmon Gyoza', 'food_type': 'Brand', 'food_url': 'https://www.fatsecret.com/calories-nutrition/trader-joes/spicy-salmon-gyoza'}, {'brand_name': 'Tasty Select', 'food_description': 'Per 3 1/2 oz - Calories: 190kcal | Fat: 6.00g | Carbs: 24.00g | Protein: 8.00g', 'food_id': '2884972', 'food_name': 'Vegetable & Pork Potsticker/Gyoza', 'food_type': 'Brand', 'food_url': 'https://www.fatsecret.com/calories-nutrition/tasty-select/vegetable-and-pork-potsticker-gyoza'}, {'brand_name': 'Ajinomoto', 'food_description': 'Per 7 pieces - Calories: 300kcal | Fat: 14.00g | Carbs: 33.00g | Protein: 9.00g', 'food_id': '3985019', 'food_name': 'Vegetable Gyoza Dumplings', 'food_type': 'Brand', 'food_url': 'https://www.fatsecret.com/calories-nutrition/ajinomoto/vegetable-gyoza-dumplings'}, {'brand_name': \"Trader Joe's\", 'food_description': 'Per 4 potstickers - Calories: 130kcal | Fat: 2.00g | Carbs: 20.00g | Protein: 7.00g', 'food_id': '58763', 'food_name': 'Chicken Gyoza Potstickers', 'food_type': 'Brand', 'food_url': 'https://www.fatsecret.com/calories-nutrition/trader-joes/chicken-gyoza-potstickers'}, {'brand_name': 'Sprouts Farmers Market', 'food_description': 'Per 1 serving - Calories: 220kcal | Fat: 5.00g | Carbs: 37.00g | Protein: 6.00g', 'food_id': '50596101', 'food_name': 'Chicken Gyoza Potstickers', 'food_type': 'Brand', 'food_url': 'https://www.fatsecret.com/calories-nutrition/sprouts-farmers-market/chicken-gyoza-potstickers'}], 'max_results': '20', 'page_number': '0', 'total_results': '33'}}\n",
      "Search results saved to search_results.json.\n"
     ]
    }
   ],
   "source": [
    "import requests\n",
    "import json\n",
    "\n",
    "# Define your Client ID and Client Secret\n",
    "client_id = \"54de70f003a74802a2b6acfbaf8710aa\"\n",
    "client_secret = \"2be5535f5e7e44e195dfe88f934741cf\"\n",
    "\n",
    "# Get an access token\n",
    "\n",
    "def get_access_token():\n",
    "    token_url = \"https://oauth.fatsecret.com/connect/token\"\n",
    "    data = {\n",
    "        \"grant_type\": \"client_credentials\",\n",
    "        \"client_id\": client_id,\n",
    "        \"client_secret\": client_secret,\n",
    "        \"scope\": \"basic\"\n",
    "    }\n",
    "\n",
    "    response = requests.post(token_url, data=data)\n",
    "    access_token = response.json()[\"access_token\"]\n",
    "    return access_token\n",
    "\n",
    "# Search for food\n",
    "\n",
    "def search_food(search_expression):\n",
    "    access_token = get_access_token()\n",
    "\n",
    "    api_url = \"https://platform.fatsecret.com/rest/server.api\"\n",
    "    params = {\n",
    "        \"method\": \"foods.search\",\n",
    "        \"search_expression\": search_expression,\n",
    "        \"format\": \"json\"\n",
    "    }\n",
    "    headers = {\n",
    "        \"Authorization\": f\"Bearer {access_token}\"\n",
    "    }\n",
    "\n",
    "    response = requests.post(api_url, params=params, headers=headers)\n",
    "    search_results = response.json()\n",
    "    return search_results\n",
    "\n",
    "\n",
    "# Example usage\n",
    "search_expression = \"Gyoza\"\n",
    "results = search_food(search_expression)\n",
    "print(results)\n",
    "\n",
    "filename = \"search_results.json\"\n",
    "\n",
    "with open(filename, \"w\") as file:\n",
    "    json.dump(results, file)\n",
    "\n",
    "print(f\"Search results saved to {filename}.\")\n"
   ]
  },
  {
   "cell_type": "code",
   "execution_count": 19,
   "metadata": {},
   "outputs": [
    {
     "name": "stdout",
     "output_type": "stream",
     "text": [
      "{'food': {'brand_name': 'Shirakiku', 'food_id': '46827300', 'food_name': 'Pork Gyoza', 'food_type': 'Brand', 'food_url': 'https://www.fatsecret.com/calories-nutrition/shirakiku/pork-gyoza', 'servings': {'serving': [{'calcium': '40', 'calories': '240', 'carbohydrate': '34.00', 'cholesterol': '15', 'fat': '8.00', 'fiber': '2.0', 'iron': '2.70', 'measurement_description': 'serving', 'metric_serving_amount': '144.000', 'metric_serving_unit': 'g', 'number_of_units': '1.000', 'protein': '9.00', 'saturated_fat': '2.500', 'serving_description': '7 pieces', 'serving_id': '40092479', 'serving_url': 'https://www.fatsecret.com/calories-nutrition/shirakiku/pork-gyoza', 'sodium': '510', 'sugar': '3.00'}]}}}\n",
      "{'food': {'brand_name': 'Hungry Planet', 'food_id': '58704864', 'food_name': 'Gyoza', 'food_type': 'Brand', 'food_url': 'https://www.fatsecret.com/calories-nutrition/hungry-planet/gyoza', 'servings': {'serving': [{'added_sugars': '1.00', 'calcium': '30', 'calories': '120', 'carbohydrate': '17.00', 'cholesterol': '0', 'fat': '2.50', 'fiber': '2.0', 'iron': '1.60', 'measurement_description': 'serving', 'metric_serving_amount': '79.000', 'metric_serving_unit': 'g', 'monounsaturated_fat': '0', 'number_of_units': '1.000', 'polyunsaturated_fat': '0', 'potassium': '190', 'protein': '7.00', 'saturated_fat': '0', 'serving_description': '4 gyoza', 'serving_id': '48898797', 'serving_url': 'https://www.fatsecret.com/calories-nutrition/hungry-planet/gyoza', 'sodium': '280', 'sugar': '1.00', 'trans_fat': '0', 'vitamin_d': '0'}]}}}\n",
      "{'food': {'brand_name': 'Yoshinoya', 'food_id': '68848666', 'food_name': 'Gyoza', 'food_type': 'Brand', 'food_url': 'https://www.fatsecret.com/calories-nutrition/yoshinoya/gyoza', 'servings': {'serving': [{'calories': '250', 'carbohydrate': '30.00', 'fat': '11.00', 'measurement_description': 'serving', 'number_of_units': '1.000', 'protein': '7.00', 'serving_description': '5 pieces', 'serving_id': '56328404', 'serving_url': 'https://www.fatsecret.com/calories-nutrition/yoshinoya/gyoza'}]}}}\n",
      "{'food': {'brand_name': 'Okami', 'food_id': '3721196', 'food_name': 'Chicken Gyoza', 'food_type': 'Brand', 'food_url': 'https://www.fatsecret.com/calories-nutrition/okami/chicken-gyoza', 'servings': {'serving': [{'calories': '270', 'carbohydrate': '34.00', 'cholesterol': '30', 'fat': '4.00', 'fiber': '1.0', 'measurement_description': 'serving', 'metric_serving_amount': '120.000', 'metric_serving_unit': 'g', 'number_of_units': '1.000', 'protein': '12.00', 'saturated_fat': '1.000', 'serving_description': '6 pieces with 1 tbsp sauce', 'serving_id': '3620700', 'serving_url': 'https://www.fatsecret.com/calories-nutrition/okami/chicken-gyoza', 'sodium': '570', 'sugar': '4.00', 'trans_fat': '0'}]}}}\n",
      "Search results saved to get_results.json.\n"
     ]
    }
   ],
   "source": [
    "import requests\n",
    "import json\n",
    "\n",
    "# Define your Client ID and Client Secret\n",
    "client_id = \"54de70f003a74802a2b6acfbaf8710aa\"\n",
    "client_secret = \"2be5535f5e7e44e195dfe88f934741cf\"\n",
    "\n",
    "# Get an access token\n",
    "def get_access_token():\n",
    "    token_url = \"https://oauth.fatsecret.com/connect/token\"\n",
    "    data = {\n",
    "        \"grant_type\": \"client_credentials\",\n",
    "        \"client_id\": client_id,\n",
    "        \"client_secret\": client_secret,\n",
    "        \"scope\": \"basic\"\n",
    "    }\n",
    "\n",
    "    response = requests.post(token_url, data=data)\n",
    "    access_token = response.json()[\"access_token\"]\n",
    "    return access_token\n",
    "\n",
    "# Search for food\n",
    "def search_food(search_expression):\n",
    "    access_token = get_access_token()\n",
    "\n",
    "    api_url = \"https://platform.fatsecret.com/rest/server.api\"\n",
    "    params = {\n",
    "        \"method\": \"food.get.v3\",\n",
    "        \"food_id\": search_expression,\n",
    "        \"format\": \"json\"\n",
    "    }\n",
    "    headers = {\n",
    "        \"Authorization\": f\"Bearer {access_token}\"\n",
    "    }\n",
    "\n",
    "    response = requests.post(api_url, params=params, headers=headers)\n",
    "    search_results = response.json()\n",
    "    return search_results\n",
    "\n",
    "filename = \"get_results.json\"\n",
    "\n",
    "with open(filename, \"w\") as file:\n",
    "    search_expression = [\"46827300\", \"58704864\", \"68848666\", \"3721196\"]\n",
    "\n",
    "    for index in range(len(search_expression)):\n",
    "        results = search_food(search_expression[index])\n",
    "        print(results)\n",
    "        json.dump(results, file)\n",
    "\n",
    "print(f\"Search results saved to {filename}.\")\n"
   ]
  }
 ],
 "metadata": {
  "kernelspec": {
   "display_name": "Python 3.9.7 ('base')",
   "language": "python",
   "name": "python3"
  },
  "language_info": {
   "codemirror_mode": {
    "name": "ipython",
    "version": 3
   },
   "file_extension": ".py",
   "mimetype": "text/x-python",
   "name": "python",
   "nbconvert_exporter": "python",
   "pygments_lexer": "ipython3",
   "version": "3.9.7"
  },
  "orig_nbformat": 4,
  "vscode": {
   "interpreter": {
    "hash": "2db04e191085c925f35704d5645a1f5ec8c10b267e24c755d6661bdf1429d0eb"
   }
  }
 },
 "nbformat": 4,
 "nbformat_minor": 2
}
