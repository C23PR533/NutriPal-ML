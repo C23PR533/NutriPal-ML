{
 "cells": [
  {
   "cell_type": "code",
   "execution_count": null,
   "metadata": {},
   "outputs": [],
   "source": [
    "import json\n",
    "\n",
    "# Load data from the JSON file\n",
    "with open('C:/Users/Ananda/OneDrive/repos/NutriPal-ML/codes/output.json', 'r') as file:\n",
    "    data = json.load(file)\n"
   ]
  },
  {
   "cell_type": "code",
   "execution_count": null,
   "metadata": {},
   "outputs": [],
   "source": [
    "# Preprocess the data\n",
    "food_items = []\n",
    "for item in data:\n",
    "    food_id = item['food']['food_id']\n",
    "    food_name = item['food']['food_name']\n",
    "    food_type = item['food']['food_type']\n",
    "    servings = item['food']['servings']['serving']\n",
    "\n",
    "    # Process each serving entry\n",
    "    for serving in servings:\n",
    "        serving_description = serving['serving_description']\n",
    "        calories = serving['calories']\n",
    "        carbohydrates = serving['carbohydrate']\n",
    "        fat = serving['fat']\n",
    "        protein = serving['protein']\n",
    "\n",
    "        # Add the processed data to the food_items list\n",
    "        food_items.append({\n",
    "            'food_id': food_id,\n",
    "            'food_name': food_name,\n",
    "            'food_type': food_type,\n",
    "            'serving_description': serving_description,\n",
    "            'calories': calories,\n",
    "            'carbohydrates': carbohydrates,\n",
    "            'fat': fat,\n",
    "            'protein': protein\n",
    "        })\n"
   ]
  },
  {
   "cell_type": "code",
   "execution_count": null,
   "metadata": {},
   "outputs": [],
   "source": [
    "# Print the first few food items\n",
    "for item in food_items[:5]:\n",
    "    print(item)\n"
   ]
  }
 ],
 "metadata": {
  "kernelspec": {
   "display_name": "Python 3.9.7 ('base')",
   "language": "python",
   "name": "python3"
  },
  "language_info": {
   "name": "python",
   "version": "3.9.7"
  },
  "orig_nbformat": 4,
  "vscode": {
   "interpreter": {
    "hash": "2db04e191085c925f35704d5645a1f5ec8c10b267e24c755d6661bdf1429d0eb"
   }
  }
 },
 "nbformat": 4,
 "nbformat_minor": 2
}
