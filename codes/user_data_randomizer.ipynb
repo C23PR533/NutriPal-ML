{
 "cells": [
  {
   "cell_type": "code",
   "execution_count": 4,
   "metadata": {},
   "outputs": [
    {
     "name": "stdout",
     "output_type": "stream",
     "text": [
      "Data has been saved to user_dataset_new.json\n"
     ]
    }
   ],
   "source": [
    "import json\n",
    "import random\n",
    "import uuid\n",
    "\n",
    "def generate_random_data():\n",
    "    data = {\n",
    "        \"code\": 200,\n",
    "        \"error\": False,\n",
    "        \"message\": \"Data User Preference dengan id JFp2NUp3lMZek3s574GS1CQ9XN62 berhasil didapatkan\",\n",
    "        \"listUserPreferences\": {\n",
    "            \"gender\": random.choice([\"Male\", \"Female\"]),\n",
    "            \"weight\": str(random.randint(40, 100)),\n",
    "            \"id_user\" : str(uuid.uuid4().int % (10 ** 7)).ljust(7, '0'),\n",
    "            \"activityLevel\": str(random.choice([1.2, 1.375, 1.55, 1.725, 1.9])),\n",
    "            \"goals\": str(random.choice([-500, 0, 500])),\n",
    "            \"height\": str(random.randint(150, 200)),\n",
    "            \"disease\": random.sample([\"diabetes\", \"obesity\", \"heart\", \"hypertension\"], k=random.randint(0, 4)),\n",
    "            \"favoriteFood\": random.sample([\n",
    "                \"Kebab\", \"Gyoza\", \"Chicken Katsu\", \"Chicken Cordon Bleu\", \"Salmon Teriyaki\",\n",
    "                \"Fish and Chips\", \"Fish Cake\", \"Okonomiyaki\", \"Coleslaw\", \"Ratatouille\",\n",
    "                \"Kimchi\", \"Onion Rings\", \"Mashed Potato\", \"Risotto\", \"Pad Thai\",\n",
    "                \"Loco Moco\", \"Bibimbap\", \"Bubur Ayam\", \"Japchae\", \"Miso Soup\",\n",
    "                \"Burger Bun\", \"Peanut Butter Cookies\", \"Baguette\", \"Takoyaki\", \"Pizza Dough\",\n",
    "                \"Meringue Cookies\", \"Cream Cheese\", \"Bagel\", \"Puff Pastry\", \"Apple Strudel\",\n",
    "                \"Butter Cookies\", \"Lemon Cake\", \"Red Velvet\", \"French Toast\", \"Churros\",\n",
    "                \"Croissant\", \"Cinnamon Roll\", \"Chocolate Lava Cake\", \"Black Forest\",\n",
    "                \"Tiramisu\", \"Carrot Cake\", \"Chocolate Mousse Cake\", \"Cloud Bread\",\n",
    "                \"Samosa\", \"Tteokbokki\", \"Butterscotch Pudding\", \"Thai Tea\", \"Guacamole\"\n",
    "            ], k=random.randint(5, 10)),\n",
    "            \"birthdate\": f\"{random.randint(1, 28):02d}-{random.randint(1, 12):02d}-{random.randint(1950, 2023)}\"\n",
    "        }\n",
    "    }\n",
    "    return json.dumps(data)\n",
    "\n",
    "\n",
    "# Generate 500 random datasets\n",
    "datasets = []\n",
    "for i in range(500):\n",
    "    datasets.append(json.loads(generate_random_data()))\n",
    "\n",
    "# Write datasets to a file\n",
    "with open(\"C:/Users/Ananda/OneDrive/repos/NutriPal-ML/results/user_dataset_new.json\", \"w\") as file:\n",
    "    json.dump(datasets, file)\n",
    "\n",
    "print(\"Data has been saved to user_dataset_new.json\")\n"
   ]
  }
 ],
 "metadata": {
  "kernelspec": {
   "display_name": "Python 3.9.7 64-bit ('anaconda3')",
   "language": "python",
   "name": "python3"
  },
  "language_info": {
   "codemirror_mode": {
    "name": "ipython",
    "version": 3
   },
   "file_extension": ".py",
   "mimetype": "text/x-python",
   "name": "python",
   "nbconvert_exporter": "python",
   "pygments_lexer": "ipython3",
   "version": "3.9.7"
  },
  "orig_nbformat": 4,
  "vscode": {
   "interpreter": {
    "hash": "2db04e191085c925f35704d5645a1f5ec8c10b267e24c755d6661bdf1429d0eb"
   }
  }
 },
 "nbformat": 4,
 "nbformat_minor": 2
}
