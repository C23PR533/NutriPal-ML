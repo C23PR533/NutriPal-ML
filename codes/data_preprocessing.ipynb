{
 "cells": [
  {
   "cell_type": "markdown",
   "metadata": {},
   "source": [
    "<h5>Kata paling banyak pada makanan</h5>"
   ]
  },
  {
   "cell_type": "code",
   "execution_count": 2,
   "metadata": {},
   "outputs": [
    {
     "name": "stdout",
     "output_type": "stream",
     "text": [
      "Ayam 147\n",
      "Goreng 93\n",
      "Ikan 76\n",
      "Nasi 65\n",
      "Kue 62\n",
      "Tahu 46\n",
      "Sambal 43\n",
      "Bakar 40\n",
      "Mie 40\n",
      "Telur 37\n",
      "Daging 35\n",
      "Tumis 31\n",
      "Udang 30\n",
      "Sayur 28\n",
      "Pisang 28\n",
      "Es 28\n",
      "Sapi 27\n",
      "Puding 26\n",
      "Bolu 22\n",
      "Bumbu 21\n"
     ]
    }
   ],
   "source": [
    "import pandas as pd\n",
    "from collections import Counter\n",
    "\n",
    "# Membaca file CSV\n",
    "df = pd.read_csv('C:/Users/Ananda/OneDrive/repos/NutriPal-ML/tes.csv')\n",
    "\n",
    "# Menggabungkan semua kata dalam kolom \"Nama\" menjadi satu teks\n",
    "text = ' '.join(df['Nama'])\n",
    "\n",
    "# Menghitung frekuensi kata menggunakan Counter\n",
    "word_counts = Counter(text.split())\n",
    "\n",
    "# Mengambil kata yang paling sering muncul\n",
    "most_common_words = word_counts.most_common(20)  # Ubah angka 10 sesuai kebutuhan\n",
    "\n",
    "# Menampilkan hasil kata yang paling sering muncul\n",
    "for word, count in most_common_words:\n",
    "    print(word, count)\n"
   ]
  },
  {
   "cell_type": "markdown",
   "metadata": {},
   "source": [
    "<h5>Delete makanan duplikat</h5>"
   ]
  },
  {
   "cell_type": "code",
   "execution_count": 11,
   "metadata": {},
   "outputs": [
    {
     "ename": "NameError",
     "evalue": "name 'food_info' is not defined",
     "output_type": "error",
     "traceback": [
      "\u001b[1;31m---------------------------------------------------------------------------\u001b[0m",
      "\u001b[1;31mNameError\u001b[0m                                 Traceback (most recent call last)",
      "Cell \u001b[1;32mIn[11], line 12\u001b[0m\n\u001b[0;32m     10\u001b[0m \u001b[38;5;66;03m# Iterate over each food item in the JSON data\u001b[39;00m\n\u001b[0;32m     11\u001b[0m \u001b[38;5;28;01mfor\u001b[39;00m food_items \u001b[38;5;129;01min\u001b[39;00m json_data\u001b[38;5;241m.\u001b[39mvalues():\n\u001b[1;32m---> 12\u001b[0m     \u001b[38;5;28;01mif\u001b[39;00m \u001b[38;5;124m\"\u001b[39m\u001b[38;5;124mfoods\u001b[39m\u001b[38;5;124m\"\u001b[39m \u001b[38;5;129;01min\u001b[39;00m \u001b[43mfood_info\u001b[49m:\n\u001b[0;32m     13\u001b[0m         food_list \u001b[38;5;241m=\u001b[39m food_info[\u001b[38;5;124m\"\u001b[39m\u001b[38;5;124mfoods\u001b[39m\u001b[38;5;124m\"\u001b[39m][\u001b[38;5;124m\"\u001b[39m\u001b[38;5;124mfood\u001b[39m\u001b[38;5;124m\"\u001b[39m]\n\u001b[0;32m     14\u001b[0m         \u001b[38;5;28;01mfor\u001b[39;00m item \u001b[38;5;129;01min\u001b[39;00m food_list:\n",
      "\u001b[1;31mNameError\u001b[0m: name 'food_info' is not defined"
     ]
    }
   ],
   "source": [
    "import json\n",
    "\n",
    "# Read the JSON data from abc.json\n",
    "with open('C:/Users/Ananda/OneDrive/repos/NutriPal-ML/codes/search_results_copy_60K.json', 'r') as file:\n",
    "    json_data = json.load(file)\n",
    "\n",
    "# Create a dictionary to store the counts of food names\n",
    "food_counts = {}\n",
    "\n",
    "# Iterate over each food item in the JSON data\n",
    "for food_items in json_data.values():\n",
    "    if \"foods\" in food_info:\n",
    "        food_list = food_info[\"foods\"][\"food\"]\n",
    "        for item in food_list:\n",
    "            food_name = item[\"food_name\"]\n",
    "            if food_name in food_counts:\n",
    "                food_counts[food_name] += 1\n",
    "            else:\n",
    "                food_counts[food_name] = 1\n",
    "\n",
    "# Print the food names and their corresponding counts\n",
    "for food_name, count in food_counts.items():\n",
    "    print(f\"{food_name}: {count}\")\n"
   ]
  },
  {
   "cell_type": "code",
   "execution_count": null,
   "metadata": {},
   "outputs": [],
   "source": [
    "import json\n",
    "\n",
    "# Load the existing search results from the JSON file\n",
    "filename = \"C:/Users/Ananda/OneDrive/repos/NutriPal-ML/codes/search_results.json\"\n",
    "\n",
    "with open(filename, \"r\") as file:\n",
    "    search_results = json.load(file)\n",
    "\n",
    "# Remove duplicate food names\n",
    "for food_name, results in search_results.items():\n",
    "    unique_results = []\n",
    "    unique_food_names = set()\n",
    "\n",
    "    for food in results[\"foods\"][\"food\"]:\n",
    "        if food[\"food_name\"] not in unique_food_names:\n",
    "            unique_results.append(food)\n",
    "            unique_food_names.add(food[\"food_name\"])\n",
    "\n",
    "    search_results[food_name][\"foods\"][\"food\"] = unique_results\n",
    "\n",
    "# Update the JSON file with the modified search results\n",
    "with open(filename, \"w\") as file:\n",
    "    json.dump(search_results, file)\n",
    "\n",
    "print(f\"Duplicate food names removed and updated JSON saved to {filename}.\")\n"
   ]
  },
  {
   "cell_type": "code",
   "execution_count": null,
   "metadata": {},
   "outputs": [
    {
     "ename": "",
     "evalue": "",
     "output_type": "error",
     "traceback": [
      "\u001b[1;31mRunning cells with 'Python 3.9.7 ('base')' requires ipykernel package.\n",
      "\u001b[1;31mRun the following command to install 'ipykernel' into the Python environment. \n",
      "\u001b[1;31mCommand: 'conda install -n base ipykernel --update-deps --force-reinstall'"
     ]
    }
   ],
   "source": [
    "import json\n",
    "\n",
    "# Read the JSON data from the file\n",
    "with open(\"C:/Users/Ananda/OneDrive/repos/NutriPal-ML/results/search_results_unique.json\", \"r\") as file:\n",
    "    data = json.load(file)\n",
    "\n",
    "# Remove empty entries\n",
    "data = {key: value for key, value in data.items() if value}\n",
    "\n",
    "# Save the updated data to a new file\n",
    "output_file = \"C:/Users/Ananda/OneDrive/repos/NutriPal-ML/results/search_results_unique_processed.json\"\n",
    "with open(output_file, \"w\") as file:\n",
    "    json.dump(data, file)\n",
    "\n",
    "print(f\"The updated data has been saved to {output_file}.\")\n"
   ]
  }
 ],
 "metadata": {
  "kernelspec": {
   "display_name": "Python 3.9.7 ('base')",
   "language": "python",
   "name": "python3"
  },
  "language_info": {
   "codemirror_mode": {
    "name": "ipython",
    "version": 3
   },
   "file_extension": ".py",
   "mimetype": "text/x-python",
   "name": "python",
   "nbconvert_exporter": "python",
   "pygments_lexer": "ipython3",
   "version": "3.9.7"
  },
  "orig_nbformat": 4,
  "vscode": {
   "interpreter": {
    "hash": "2db04e191085c925f35704d5645a1f5ec8c10b267e24c755d6661bdf1429d0eb"
   }
  }
 },
 "nbformat": 4,
 "nbformat_minor": 2
}
