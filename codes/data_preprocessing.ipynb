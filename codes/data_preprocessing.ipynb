{
 "cells": [
  {
   "attachments": {},
   "cell_type": "markdown",
   "metadata": {},
   "source": [
    "<h5>Delete makanan kosong</h5>"
   ]
  },
  {
   "cell_type": "code",
   "execution_count": null,
   "metadata": {},
   "outputs": [
    {
     "name": "stdout",
     "output_type": "stream",
     "text": [
      "The updated data has been saved to C:/Users/Ananda/OneDrive/repos/NutriPal-ML/results/search_results_unique_processed.json.\n"
     ]
    }
   ],
   "source": [
    "import json\n",
    "\n",
    "# Read the JSON data from the file\n",
    "with open(\"C:/Users/Ananda/OneDrive/repos/NutriPal-ML/results/search_results_unique.json\", \"r\") as file:\n",
    "    data = json.load(file)\n",
    "\n",
    "# Remove empty entries\n",
    "data = {key: value for key, value in data.items() if value}\n",
    "\n",
    "# Save the updated data to a new file\n",
    "output_file = \"C:/Users/Ananda/OneDrive/repos/NutriPal-ML/results/search_results_unique_processed.json\"\n",
    "with open(output_file, \"w\") as file:\n",
    "    json.dump(data, file)\n",
    "\n",
    "print(f\"The updated data has been saved to {output_file}.\")\n"
   ]
  },
  {
   "attachments": {},
   "cell_type": "markdown",
   "metadata": {},
   "source": [
    "<h5>Kata paling banyak pada makanan</h5>"
   ]
  },
  {
   "cell_type": "code",
   "execution_count": null,
   "metadata": {},
   "outputs": [
    {
     "name": "stdout",
     "output_type": "stream",
     "text": [
      "Tiramisu = 22\n",
      "Onion Rings = 19\n",
      "Carrot Cake = 18\n",
      "Guacamole = 16\n",
      "Coleslaw = 13\n",
      "Chicken Cordon Bleu = 12\n",
      "Kimchi = 12\n",
      "Croissant = 12\n",
      "Peanut Butter Cookies = 9\n",
      "Miso Soup = 8\n",
      "Cream Cheese = 8\n",
      "French Toast = 8\n",
      "Cinnamon Roll = 8\n",
      "Chicken Katsu = 6\n",
      "Apple Strudel = 6\n",
      "Lemon Cake = 6\n",
      "Chocolate Mousse Cake = 6\n",
      "Pad Thai = 5\n",
      "Baguette = 5\n",
      "Butter Cookies = 5\n",
      "Pizza Dough = 4\n",
      "Chocolate Lava Cake = 4\n",
      "Butterscotch Pudding = 4\n",
      "Gyoza = 3\n",
      "Ratatouille = 3\n",
      "Mashed Potato = 3\n",
      "Japchae = 3\n",
      "Burger Bun = 3\n",
      "Bagel = 3\n",
      "Puff Pastry = 3\n",
      "Red Velvet = 3\n",
      "Churros = 3\n",
      "Salmon Teriyaki = 2\n",
      "Risotto = 2\n",
      "Takoyaki = 2\n",
      "Meringue Cookies = 2\n",
      "Samosa = 2\n",
      "Thai Tea = 2\n",
      "Kebab = 1\n",
      "Fish and Chips = 1\n",
      "Fish Cake = 1\n",
      "Okonomiyaki = 1\n",
      "Loco Moco = 1\n",
      "Bibimbap = 1\n",
      "Bubur Ayam = 1\n",
      "Black Forest = 1\n",
      "Cloud Bread = 1\n",
      "Tteokbokki = 1\n"
     ]
    }
   ],
   "source": [
    "import json\n",
    "\n",
    "# Read the JSON data\n",
    "with open(\"C:/Users/Ananda/OneDrive/repos/NutriPal-ML/results/search_results_unique_processed.json\", \"r\") as file:\n",
    "    data = json.load(file)\n",
    "\n",
    "# Count the occurrences of each food item\n",
    "food_counts = {}\n",
    "for food_category in data:\n",
    "    food_items = data[food_category]\n",
    "    for food_item in food_items:\n",
    "        food_name = food_item[\"food_name\"]\n",
    "        if food_name in food_counts:\n",
    "            food_counts[food_name] += 1\n",
    "        else:\n",
    "            food_counts[food_name] = 1\n",
    "\n",
    "# Sort the food counts by count in descending order\n",
    "sorted_food_counts = sorted(\n",
    "    food_counts.items(), key=lambda x: x[1], reverse=True)\n",
    "\n",
    "# Print the food counts\n",
    "for food_name, count in sorted_food_counts:\n",
    "    print(f\"{food_name} = {count}\")\n"
   ]
  },
  {
   "cell_type": "code",
   "execution_count": null,
   "metadata": {},
   "outputs": [
    {
     "name": "stdout",
     "output_type": "stream",
     "text": [
      "Tiramisu\n",
      "Onion Rings\n",
      "Carrot Cake\n",
      "Guacamole\n",
      "Coleslaw\n",
      "Chicken Cordon Bleu\n",
      "Kimchi\n",
      "Croissant\n",
      "Peanut Butter Cookies\n",
      "Miso Soup\n",
      "Cream Cheese\n",
      "French Toast\n",
      "Cinnamon Roll\n",
      "Chicken Katsu\n",
      "Apple Strudel\n",
      "Lemon Cake\n",
      "Chocolate Mousse Cake\n",
      "Pad Thai\n",
      "Baguette\n",
      "Butter Cookies\n",
      "Pizza Dough\n",
      "Chocolate Lava Cake\n",
      "Butterscotch Pudding\n",
      "Gyoza\n",
      "Ratatouille\n",
      "Mashed Potato\n",
      "Japchae\n",
      "Burger Bun\n",
      "Bagel\n",
      "Puff Pastry\n",
      "Red Velvet\n",
      "Churros\n",
      "Salmon Teriyaki\n",
      "Risotto\n",
      "Takoyaki\n",
      "Meringue Cookies\n",
      "Samosa\n",
      "Thai Tea\n",
      "Kebab\n",
      "Fish and Chips\n",
      "Fish Cake\n",
      "Okonomiyaki\n",
      "Loco Moco\n",
      "Bibimbap\n",
      "Bubur Ayam\n",
      "Black Forest\n",
      "Cloud Bread\n",
      "Tteokbokki\n"
     ]
    }
   ],
   "source": [
    "import json\n",
    "\n",
    "# Read the JSON data\n",
    "with open(\"C:/Users/Ananda/OneDrive/repos/NutriPal-ML/results/search_results_unique_processed.json\", \"r\") as file:\n",
    "    data = json.load(file)\n",
    "\n",
    "# Count the occurrences of each food item\n",
    "food_counts = {}\n",
    "for food_category in data:\n",
    "    food_items = data[food_category]\n",
    "    for food_item in food_items:\n",
    "        food_name = food_item[\"food_name\"]\n",
    "        if food_name in food_counts:\n",
    "            food_counts[food_name] += 1\n",
    "        else:\n",
    "            food_counts[food_name] = 1\n",
    "\n",
    "# Sort the food counts by count in descending order\n",
    "sorted_food_counts = sorted(\n",
    "    food_counts.items(), key=lambda x: x[1], reverse=True)\n",
    "\n",
    "# Print the food counts\n",
    "for food_name, count in sorted_food_counts:\n",
    "    print(f\"{food_name}\")\n"
   ]
  },
  {
   "attachments": {},
   "cell_type": "markdown",
   "metadata": {},
   "source": [
    "<h5>Save Food ID"
   ]
  },
  {
   "cell_type": "code",
   "execution_count": 2,
   "metadata": {},
   "outputs": [
    {
     "name": "stdout",
     "output_type": "stream",
     "text": [
      "The food IDs have been saved to food_ids.json.\n"
     ]
    }
   ],
   "source": [
    "import json\n",
    "\n",
    "# Read the JSON data\n",
    "with open(\"C:/Users/Ananda/OneDrive/repos/NutriPal-ML/results/search_results_unique_processed.json\", \"r\") as file:\n",
    "    data = json.load(file)\n",
    "\n",
    "# Collect the food IDs\n",
    "food_ids = []\n",
    "for food_category in data:\n",
    "    food_items = data[food_category]\n",
    "    for food_item in food_items:\n",
    "        food_id = food_item[\"food_id\"]\n",
    "        food_ids.append(food_id)\n",
    "\n",
    "# Create a dictionary with food IDs\n",
    "food_id_dict = {\"food_ids\": food_ids}\n",
    "\n",
    "# Save the food IDs to a new JSON file\n",
    "output_file = \"food_ids.json\"\n",
    "with open(output_file, \"w\") as file:\n",
    "    json.dump(food_id_dict, file)\n",
    "\n",
    "print(f\"The food IDs have been saved to {output_file}.\")\n"
   ]
  },
  {
   "attachments": {},
   "cell_type": "markdown",
   "metadata": {},
   "source": [
    "<h5>Convert JSON to CSV</h5>"
   ]
  },
  {
   "cell_type": "code",
   "execution_count": 2,
   "metadata": {},
   "outputs": [],
   "source": [
    "import json\n",
    "import csv\n",
    "\n",
    "\n",
    "def convert_json_to_csv(json_file, csv_file):\n",
    "    # Open the JSON file and load the data\n",
    "    with open(json_file) as file:\n",
    "        data = json.load(file)\n",
    "\n",
    "    # Open the CSV file in write mode with UTF-8 encoding\n",
    "    with open(csv_file, 'w', newline='', encoding='utf-8') as file:\n",
    "        # Create a CSV writer\n",
    "        writer = csv.writer(file)\n",
    "\n",
    "        # Write the header row using the keys from the first item in the JSON data\n",
    "        writer.writerow(data[0].keys())\n",
    "\n",
    "        # Write each row of data as a new row in the CSV file\n",
    "        for item in data:\n",
    "            writer.writerow(item.values())\n",
    "\n",
    "\n",
    "# Example usage\n",
    "json_file = 'C:/Users/Ananda/OneDrive/repos/NutriPal-ML/results/output.json'\n",
    "csv_file = 'C:/Users/Ananda/OneDrive/repos/NutriPal-ML/results/output.csv'\n",
    "convert_json_to_csv(json_file, csv_file)\n"
   ]
  },
  {
   "cell_type": "code",
   "execution_count": 3,
   "metadata": {},
   "outputs": [],
   "source": [
    "import json\n",
    "# Read the user_dataset_new.json file and extract the id_user values\n",
    "with open(\"C:/Users/Ananda/OneDrive/repos/NutriPal-ML/results/user_dataset_new.json\", \"r\") as file:\n",
    "    datasets = json.load(file)\n",
    "    id_users = [dataset[\"listUserPreferences\"][\"id_user\"]\n",
    "                for dataset in datasets]\n",
    " # Save the id_user values to user_ids.json\n",
    "with open(\"C:/Users/Ananda/OneDrive/repos/NutriPal-ML/results/user_ids.json\", \"w\") as file:\n",
    "    json.dump(id_users, file)\n"
   ]
  },
  {
   "cell_type": "code",
   "execution_count": null,
   "metadata": {},
   "outputs": [],
   "source": []
  }
 ],
 "metadata": {
  "kernelspec": {
   "display_name": "Python 3.9.7 ('base')",
   "language": "python",
   "name": "python3"
  },
  "language_info": {
   "codemirror_mode": {
    "name": "ipython",
    "version": 3
   },
   "file_extension": ".py",
   "mimetype": "text/x-python",
   "name": "python",
   "nbconvert_exporter": "python",
   "pygments_lexer": "ipython3",
   "version": "3.9.7"
  },
  "orig_nbformat": 4,
  "vscode": {
   "interpreter": {
    "hash": "2db04e191085c925f35704d5645a1f5ec8c10b267e24c755d6661bdf1429d0eb"
   }
  }
 },
 "nbformat": 4,
 "nbformat_minor": 2
}
