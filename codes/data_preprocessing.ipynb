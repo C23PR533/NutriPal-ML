{
 "cells": [
  {
   "cell_type": "markdown",
   "metadata": {},
   "source": [
    "<h5>Kata paling banyak pada makanan</h5>"
   ]
  },
  {
   "cell_type": "code",
   "execution_count": 2,
   "metadata": {},
   "outputs": [
    {
     "name": "stdout",
     "output_type": "stream",
     "text": [
      "Ayam 147\n",
      "Goreng 93\n",
      "Ikan 76\n",
      "Nasi 65\n",
      "Kue 62\n",
      "Tahu 46\n",
      "Sambal 43\n",
      "Bakar 40\n",
      "Mie 40\n",
      "Telur 37\n",
      "Daging 35\n",
      "Tumis 31\n",
      "Udang 30\n",
      "Sayur 28\n",
      "Pisang 28\n",
      "Es 28\n",
      "Sapi 27\n",
      "Puding 26\n",
      "Bolu 22\n",
      "Bumbu 21\n"
     ]
    }
   ],
   "source": [
    "import pandas as pd\n",
    "from collections import Counter\n",
    "\n",
    "# Membaca file CSV\n",
    "df = pd.read_csv('C:/Users/Ananda/OneDrive/repos/NutriPal-ML/tes.csv')\n",
    "\n",
    "# Menggabungkan semua kata dalam kolom \"Nama\" menjadi satu teks\n",
    "text = ' '.join(df['Nama'])\n",
    "\n",
    "# Menghitung frekuensi kata menggunakan Counter\n",
    "word_counts = Counter(text.split())\n",
    "\n",
    "# Mengambil kata yang paling sering muncul\n",
    "most_common_words = word_counts.most_common(20)  # Ubah angka 10 sesuai kebutuhan\n",
    "\n",
    "# Menampilkan hasil kata yang paling sering muncul\n",
    "for word, count in most_common_words:\n",
    "    print(word, count)\n"
   ]
  },
  {
   "cell_type": "markdown",
   "metadata": {},
   "source": [
    "<h5>Delete makanan kosong</h5>"
   ]
  },
  {
   "cell_type": "code",
   "execution_count": 1,
   "metadata": {},
   "outputs": [
    {
     "name": "stdout",
     "output_type": "stream",
     "text": [
      "The updated data has been saved to C:/Users/Ananda/OneDrive/repos/NutriPal-ML/results/search_results_unique_processed.json.\n"
     ]
    }
   ],
   "source": [
    "import json\n",
    "\n",
    "# Read the JSON data from the file\n",
    "with open(\"C:/Users/Ananda/OneDrive/repos/NutriPal-ML/results/search_results_unique.json\", \"r\") as file:\n",
    "    data = json.load(file)\n",
    "\n",
    "# Remove empty entries\n",
    "data = {key: value for key, value in data.items() if value}\n",
    "\n",
    "# Save the updated data to a new file\n",
    "output_file = \"C:/Users/Ananda/OneDrive/repos/NutriPal-ML/results/search_results_unique_processed.json\"\n",
    "with open(output_file, \"w\") as file:\n",
    "    json.dump(data, file)\n",
    "\n",
    "print(f\"The updated data has been saved to {output_file}.\")\n"
   ]
  },
  {
   "cell_type": "code",
   "execution_count": 3,
   "metadata": {},
   "outputs": [
    {
     "name": "stdout",
     "output_type": "stream",
     "text": [
      "Kebab = 1\n",
      "Gyoza = 3\n",
      "Chicken Katsu = 6\n",
      "Chicken Cordon Bleu = 12\n",
      "Salmon Teriyaki = 2\n",
      "Fish and Chips = 1\n",
      "Fish Cake = 1\n",
      "Okonomiyaki = 1\n",
      "Coleslaw = 13\n",
      "Ratatouille = 3\n",
      "Kimchi = 12\n",
      "Onion Rings = 19\n",
      "Mashed Potato = 3\n",
      "Risotto = 2\n",
      "Pad Thai = 5\n",
      "Loco Moco = 1\n",
      "Bibimbap = 1\n",
      "Bubur Ayam = 1\n",
      "Japchae = 3\n",
      "Miso Soup = 8\n",
      "Burger Bun = 3\n",
      "Peanut Butter Cookies = 9\n",
      "Baguette = 5\n",
      "Takoyaki = 2\n",
      "Pizza Dough = 4\n",
      "Meringue Cookies = 2\n",
      "Cream Cheese = 8\n",
      "Bagel = 3\n",
      "Puff Pastry = 3\n",
      "Apple Strudel = 6\n",
      "Butter Cookies = 5\n",
      "Lemon Cake = 6\n",
      "Red Velvet = 3\n",
      "French Toast = 8\n",
      "Churros = 3\n",
      "Croissant = 12\n",
      "Cinnamon Roll = 8\n",
      "Chocolate Lava Cake = 4\n",
      "Black Forest = 1\n",
      "Tiramisu = 22\n",
      "Carrot Cake = 18\n",
      "Chocolate Mousse Cake = 6\n",
      "Cloud Bread = 1\n",
      "Samosa = 2\n",
      "Tteokbokki = 1\n",
      "Butterscotch Pudding = 4\n",
      "Thai Tea = 2\n",
      "Guacamole = 16\n"
     ]
    }
   ],
   "source": [
    "import json\n",
    "\n",
    "# Read the JSON data\n",
    "with open(\"C:/Users/Ananda/OneDrive/repos/NutriPal-ML/results/search_results_unique_processed.json\", \"r\") as file:\n",
    "    data = json.load(file)\n",
    "\n",
    "# Count the occurrences of each food item\n",
    "food_counts = {}\n",
    "for food_category in data:\n",
    "    food_items = data[food_category]\n",
    "    for food_item in food_items:\n",
    "        food_name = food_item[\"food_name\"]\n",
    "        if food_name in food_counts:\n",
    "            food_counts[food_name] += 1\n",
    "        else:\n",
    "            food_counts[food_name] = 1\n",
    "\n",
    "# Print the food counts\n",
    "for food_name, count in food_counts.items():\n",
    "    print(f\"{food_name} = {count}\")\n"
   ]
  }
 ],
 "metadata": {
  "kernelspec": {
   "display_name": "Python 3.9.7 ('base')",
   "language": "python",
   "name": "python3"
  },
  "language_info": {
   "codemirror_mode": {
    "name": "ipython",
    "version": 3
   },
   "file_extension": ".py",
   "mimetype": "text/x-python",
   "name": "python",
   "nbconvert_exporter": "python",
   "pygments_lexer": "ipython3",
   "version": "3.9.7"
  },
  "orig_nbformat": 4,
  "vscode": {
   "interpreter": {
    "hash": "2db04e191085c925f35704d5645a1f5ec8c10b267e24c755d6661bdf1429d0eb"
   }
  }
 },
 "nbformat": 4,
 "nbformat_minor": 2
}
