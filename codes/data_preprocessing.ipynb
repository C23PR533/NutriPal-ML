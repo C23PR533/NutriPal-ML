{
 "cells": [
  {
   "cell_type": "markdown",
   "metadata": {},
   "source": [
    "<h5>Kata paling banyak pada makanan</h5>"
   ]
  },
  {
   "cell_type": "code",
   "execution_count": 2,
   "metadata": {},
   "outputs": [
    {
     "name": "stdout",
     "output_type": "stream",
     "text": [
      "Ayam 147\n",
      "Goreng 93\n",
      "Ikan 76\n",
      "Nasi 65\n",
      "Kue 62\n",
      "Tahu 46\n",
      "Sambal 43\n",
      "Bakar 40\n",
      "Mie 40\n",
      "Telur 37\n",
      "Daging 35\n",
      "Tumis 31\n",
      "Udang 30\n",
      "Sayur 28\n",
      "Pisang 28\n",
      "Es 28\n",
      "Sapi 27\n",
      "Puding 26\n",
      "Bolu 22\n",
      "Bumbu 21\n"
     ]
    }
   ],
   "source": [
    "import pandas as pd\n",
    "from collections import Counter\n",
    "\n",
    "# Membaca file CSV\n",
    "df = pd.read_csv('C:/Users/Ananda/OneDrive/repos/NutriPal-ML/tes.csv')\n",
    "\n",
    "# Menggabungkan semua kata dalam kolom \"Nama\" menjadi satu teks\n",
    "text = ' '.join(df['Nama'])\n",
    "\n",
    "# Menghitung frekuensi kata menggunakan Counter\n",
    "word_counts = Counter(text.split())\n",
    "\n",
    "# Mengambil kata yang paling sering muncul\n",
    "most_common_words = word_counts.most_common(20)  # Ubah angka 10 sesuai kebutuhan\n",
    "\n",
    "# Menampilkan hasil kata yang paling sering muncul\n",
    "for word, count in most_common_words:\n",
    "    print(word, count)\n"
   ]
  },
  {
   "cell_type": "markdown",
   "metadata": {},
   "source": [
    "<h5>Delete makanan kosong</h5>"
   ]
  },
  {
   "cell_type": "code",
   "execution_count": 1,
   "metadata": {},
   "outputs": [
    {
     "name": "stdout",
     "output_type": "stream",
     "text": [
      "The updated data has been saved to C:/Users/Ananda/OneDrive/repos/NutriPal-ML/results/search_results_unique_processed.json.\n"
     ]
    }
   ],
   "source": [
    "import json\n",
    "\n",
    "# Read the JSON data from the file\n",
    "with open(\"C:/Users/Ananda/OneDrive/repos/NutriPal-ML/results/search_results_unique.json\", \"r\") as file:\n",
    "    data = json.load(file)\n",
    "\n",
    "# Remove empty entries\n",
    "data = {key: value for key, value in data.items() if value}\n",
    "\n",
    "# Save the updated data to a new file\n",
    "output_file = \"C:/Users/Ananda/OneDrive/repos/NutriPal-ML/results/search_results_unique_processed.json\"\n",
    "with open(output_file, \"w\") as file:\n",
    "    json.dump(data, file)\n",
    "\n",
    "print(f\"The updated data has been saved to {output_file}.\")\n"
   ]
  },
  {
   "cell_type": "markdown",
   "metadata": {},
   "source": [
    "<>List makanan yang"
   ]
  },
  {
   "cell_type": "code",
   "execution_count": 3,
   "metadata": {},
   "outputs": [
    {
     "name": "stdout",
     "output_type": "stream",
     "text": [
      "Kebab = 1\n",
      "Gyoza = 3\n",
      "Chicken Katsu = 6\n",
      "Chicken Cordon Bleu = 12\n",
      "Salmon Teriyaki = 2\n",
      "Fish and Chips = 1\n",
      "Fish Cake = 1\n",
      "Okonomiyaki = 1\n",
      "Coleslaw = 13\n",
      "Ratatouille = 3\n",
      "Kimchi = 12\n",
      "Onion Rings = 19\n",
      "Mashed Potato = 3\n",
      "Risotto = 2\n",
      "Pad Thai = 5\n",
      "Loco Moco = 1\n",
      "Bibimbap = 1\n",
      "Bubur Ayam = 1\n",
      "Japchae = 3\n",
      "Miso Soup = 8\n",
      "Burger Bun = 3\n",
      "Peanut Butter Cookies = 9\n",
      "Baguette = 5\n",
      "Takoyaki = 2\n",
      "Pizza Dough = 4\n",
      "Meringue Cookies = 2\n",
      "Cream Cheese = 8\n",
      "Bagel = 3\n",
      "Puff Pastry = 3\n",
      "Apple Strudel = 6\n",
      "Butter Cookies = 5\n",
      "Lemon Cake = 6\n",
      "Red Velvet = 3\n",
      "French Toast = 8\n",
      "Churros = 3\n",
      "Croissant = 12\n",
      "Cinnamon Roll = 8\n",
      "Chocolate Lava Cake = 4\n",
      "Black Forest = 1\n",
      "Tiramisu = 22\n",
      "Carrot Cake = 18\n",
      "Chocolate Mousse Cake = 6\n",
      "Cloud Bread = 1\n",
      "Samosa = 2\n",
      "Tteokbokki = 1\n",
      "Butterscotch Pudding = 4\n",
      "Thai Tea = 2\n",
      "Guacamole = 16\n"
     ]
    }
   ],
   "source": [
    "import json\n",
    "\n",
    "# Read the JSON data\n",
    "with open(\"C:/Users/Ananda/OneDrive/repos/NutriPal-ML/results/search_results_unique_processed.json\", \"r\") as file:\n",
    "    data = json.load(file)\n",
    "\n",
    "# Count the occurrences of each food item\n",
    "food_counts = {}\n",
    "for food_category in data:\n",
    "    food_items = data[food_category]\n",
    "    for food_item in food_items:\n",
    "        food_name = food_item[\"food_name\"]\n",
    "        if food_name in food_counts:\n",
    "            food_counts[food_name] += 1\n",
    "        else:\n",
    "            food_counts[food_name] = 1\n",
    "\n",
    "# Print the food counts\n",
    "for food_name, count in food_counts.items():\n",
    "    print(f\"{food_name} = {count}\")\n"
   ]
  },
  {
   "cell_type": "code",
   "execution_count": 4,
   "metadata": {},
   "outputs": [
    {
     "name": "stdout",
     "output_type": "stream",
     "text": [
      "The food IDs have been saved to food_ids.json.\n"
     ]
    }
   ],
   "source": [
    "import json\n",
    "\n",
    "# Read the JSON data\n",
    "with open(\"C:/Users/Ananda/OneDrive/repos/NutriPal-ML/results/search_results_unique_processed.json\", \"r\") as file:\n",
    "    data = json.load(file)\n",
    "\n",
    "# Collect the food IDs\n",
    "food_ids = []\n",
    "for food_category in data:\n",
    "    food_items = data[food_category]\n",
    "    for food_item in food_items:\n",
    "        food_id = food_item[\"food_id\"]\n",
    "        food_ids.append(food_id)\n",
    "\n",
    "# Create a dictionary with food IDs\n",
    "food_id_dict = {\"food_ids\": food_ids}\n",
    "\n",
    "# Save the food IDs to a new JSON file\n",
    "output_file = \"food_ids.json\"\n",
    "with open(output_file, \"w\") as file:\n",
    "    json.dump(food_id_dict, file)\n",
    "\n",
    "print(f\"The food IDs have been saved to {output_file}.\")\n"
   ]
  },
  {
   "cell_type": "code",
   "execution_count": 3,
   "metadata": {},
   "outputs": [],
   "source": [
    "import json\n",
    "\n",
    "# Read the JSON file\n",
    "with open('C:/Users/Ananda/OneDrive/repos/NutriPal-ML/codes/output copy.json', 'r') as file:\n",
    "    data = json.load(file)\n",
    "\n",
    "# Remove \"food\" objects\n",
    "data = [item for item in data if 'food' not in item]\n",
    "\n",
    "# Write the updated data to the JSON file\n",
    "with open('C:/Users/Ananda/OneDrive/repos/NutriPal-ML/codes/output copy.json', 'w') as file:\n",
    "    json.dump(data, file)\n"
   ]
  },
  {
   "cell_type": "code",
   "execution_count": 4,
   "metadata": {},
   "outputs": [],
   "source": [
    "import json\n",
    "\n",
    "# Read the JSON file\n",
    "with open('C:/Users/Ananda/OneDrive/repos/NutriPal-ML/codes/output copy.json', 'r') as file:\n",
    "    data = json.load(file)\n",
    "\n",
    "# Remove \"food\" objects\n",
    "data = [{'food_id': item['food']['food_id'],\n",
    "         'food_name': item['food']['food_name']} for item in data]\n",
    "\n",
    "# Write the updated data to the JSON file\n",
    "with open('C:/Users/Ananda/OneDrive/repos/NutriPal-ML/codes/output copy.json', 'w') as file:\n",
    "    json.dump(data, file)\n"
   ]
  },
  {
   "cell_type": "code",
   "execution_count": 5,
   "metadata": {},
   "outputs": [
    {
     "ename": "JSONDecodeError",
     "evalue": "Expecting ',' delimiter: line 116 column 5 (char 5395)",
     "output_type": "error",
     "traceback": [
      "\u001b[1;31m---------------------------------------------------------------------------\u001b[0m",
      "\u001b[1;31mJSONDecodeError\u001b[0m                           Traceback (most recent call last)",
      "Cell \u001b[1;32mIn[5], line 21\u001b[0m\n\u001b[0;32m     18\u001b[0m json_file_path \u001b[38;5;241m=\u001b[39m \u001b[38;5;124m'\u001b[39m\u001b[38;5;124mC:/Users/Ananda/OneDrive/repos/NutriPal-ML/codes/output copy.json\u001b[39m\u001b[38;5;124m'\u001b[39m\n\u001b[0;32m     20\u001b[0m \u001b[38;5;66;03m# Call the function to fix the JSON dataset\u001b[39;00m\n\u001b[1;32m---> 21\u001b[0m \u001b[43mfix_json_dataset\u001b[49m\u001b[43m(\u001b[49m\u001b[43mjson_file_path\u001b[49m\u001b[43m)\u001b[49m\n",
      "Cell \u001b[1;32mIn[5], line 7\u001b[0m, in \u001b[0;36mfix_json_dataset\u001b[1;34m(file_path)\u001b[0m\n\u001b[0;32m      4\u001b[0m \u001b[38;5;28;01mdef\u001b[39;00m \u001b[38;5;21mfix_json_dataset\u001b[39m(file_path):\n\u001b[0;32m      5\u001b[0m     \u001b[38;5;66;03m# Read the JSON file\u001b[39;00m\n\u001b[0;32m      6\u001b[0m     \u001b[38;5;28;01mwith\u001b[39;00m \u001b[38;5;28mopen\u001b[39m(file_path, \u001b[38;5;124m'\u001b[39m\u001b[38;5;124mr\u001b[39m\u001b[38;5;124m'\u001b[39m) \u001b[38;5;28;01mas\u001b[39;00m file:\n\u001b[1;32m----> 7\u001b[0m         data \u001b[38;5;241m=\u001b[39m \u001b[43mjson\u001b[49m\u001b[38;5;241;43m.\u001b[39;49m\u001b[43mload\u001b[49m\u001b[43m(\u001b[49m\u001b[43mfile\u001b[49m\u001b[43m)\u001b[49m\n\u001b[0;32m      9\u001b[0m     \u001b[38;5;66;03m# Remove extra opening and closing brackets\u001b[39;00m\n\u001b[0;32m     10\u001b[0m     data \u001b[38;5;241m=\u001b[39m [item \u001b[38;5;28;01mfor\u001b[39;00m item \u001b[38;5;129;01min\u001b[39;00m data \u001b[38;5;28;01mif\u001b[39;00m \u001b[38;5;28misinstance\u001b[39m(item, \u001b[38;5;28mdict\u001b[39m)]\n",
      "File \u001b[1;32mc:\\Users\\Ananda\\anaconda3\\lib\\json\\__init__.py:293\u001b[0m, in \u001b[0;36mload\u001b[1;34m(fp, cls, object_hook, parse_float, parse_int, parse_constant, object_pairs_hook, **kw)\u001b[0m\n\u001b[0;32m    274\u001b[0m \u001b[39mdef\u001b[39;00m \u001b[39mload\u001b[39m(fp, \u001b[39m*\u001b[39m, \u001b[39mcls\u001b[39m\u001b[39m=\u001b[39m\u001b[39mNone\u001b[39;00m, object_hook\u001b[39m=\u001b[39m\u001b[39mNone\u001b[39;00m, parse_float\u001b[39m=\u001b[39m\u001b[39mNone\u001b[39;00m,\n\u001b[0;32m    275\u001b[0m         parse_int\u001b[39m=\u001b[39m\u001b[39mNone\u001b[39;00m, parse_constant\u001b[39m=\u001b[39m\u001b[39mNone\u001b[39;00m, object_pairs_hook\u001b[39m=\u001b[39m\u001b[39mNone\u001b[39;00m, \u001b[39m*\u001b[39m\u001b[39m*\u001b[39mkw):\n\u001b[0;32m    276\u001b[0m \u001b[39m    \u001b[39m\u001b[39m\"\"\"Deserialize ``fp`` (a ``.read()``-supporting file-like object containing\u001b[39;00m\n\u001b[0;32m    277\u001b[0m \u001b[39m    a JSON document) to a Python object.\u001b[39;00m\n\u001b[0;32m    278\u001b[0m \n\u001b[1;32m   (...)\u001b[0m\n\u001b[0;32m    291\u001b[0m \u001b[39m    kwarg; otherwise ``JSONDecoder`` is used.\u001b[39;00m\n\u001b[0;32m    292\u001b[0m \u001b[39m    \"\"\"\u001b[39;00m\n\u001b[1;32m--> 293\u001b[0m     \u001b[39mreturn\u001b[39;00m loads(fp\u001b[39m.\u001b[39mread(),\n\u001b[0;32m    294\u001b[0m         \u001b[39mcls\u001b[39m\u001b[39m=\u001b[39m\u001b[39mcls\u001b[39m, object_hook\u001b[39m=\u001b[39mobject_hook,\n\u001b[0;32m    295\u001b[0m         parse_float\u001b[39m=\u001b[39mparse_float, parse_int\u001b[39m=\u001b[39mparse_int,\n\u001b[0;32m    296\u001b[0m         parse_constant\u001b[39m=\u001b[39mparse_constant, object_pairs_hook\u001b[39m=\u001b[39mobject_pairs_hook, \u001b[39m*\u001b[39m\u001b[39m*\u001b[39mkw)\n",
      "File \u001b[1;32mc:\\Users\\Ananda\\anaconda3\\lib\\json\\__init__.py:346\u001b[0m, in \u001b[0;36mloads\u001b[1;34m(s, cls, object_hook, parse_float, parse_int, parse_constant, object_pairs_hook, **kw)\u001b[0m\n\u001b[0;32m    341\u001b[0m     s \u001b[39m=\u001b[39m s\u001b[39m.\u001b[39mdecode(detect_encoding(s), \u001b[39m'\u001b[39m\u001b[39msurrogatepass\u001b[39m\u001b[39m'\u001b[39m)\n\u001b[0;32m    343\u001b[0m \u001b[39mif\u001b[39;00m (\u001b[39mcls\u001b[39m \u001b[39mis\u001b[39;00m \u001b[39mNone\u001b[39;00m \u001b[39mand\u001b[39;00m object_hook \u001b[39mis\u001b[39;00m \u001b[39mNone\u001b[39;00m \u001b[39mand\u001b[39;00m\n\u001b[0;32m    344\u001b[0m         parse_int \u001b[39mis\u001b[39;00m \u001b[39mNone\u001b[39;00m \u001b[39mand\u001b[39;00m parse_float \u001b[39mis\u001b[39;00m \u001b[39mNone\u001b[39;00m \u001b[39mand\u001b[39;00m\n\u001b[0;32m    345\u001b[0m         parse_constant \u001b[39mis\u001b[39;00m \u001b[39mNone\u001b[39;00m \u001b[39mand\u001b[39;00m object_pairs_hook \u001b[39mis\u001b[39;00m \u001b[39mNone\u001b[39;00m \u001b[39mand\u001b[39;00m \u001b[39mnot\u001b[39;00m kw):\n\u001b[1;32m--> 346\u001b[0m     \u001b[39mreturn\u001b[39;00m _default_decoder\u001b[39m.\u001b[39;49mdecode(s)\n\u001b[0;32m    347\u001b[0m \u001b[39mif\u001b[39;00m \u001b[39mcls\u001b[39m \u001b[39mis\u001b[39;00m \u001b[39mNone\u001b[39;00m:\n\u001b[0;32m    348\u001b[0m     \u001b[39mcls\u001b[39m \u001b[39m=\u001b[39m JSONDecoder\n",
      "File \u001b[1;32mc:\\Users\\Ananda\\anaconda3\\lib\\json\\decoder.py:337\u001b[0m, in \u001b[0;36mJSONDecoder.decode\u001b[1;34m(self, s, _w)\u001b[0m\n\u001b[0;32m    332\u001b[0m \u001b[39mdef\u001b[39;00m \u001b[39mdecode\u001b[39m(\u001b[39mself\u001b[39m, s, _w\u001b[39m=\u001b[39mWHITESPACE\u001b[39m.\u001b[39mmatch):\n\u001b[0;32m    333\u001b[0m \u001b[39m    \u001b[39m\u001b[39m\"\"\"Return the Python representation of ``s`` (a ``str`` instance\u001b[39;00m\n\u001b[0;32m    334\u001b[0m \u001b[39m    containing a JSON document).\u001b[39;00m\n\u001b[0;32m    335\u001b[0m \n\u001b[0;32m    336\u001b[0m \u001b[39m    \"\"\"\u001b[39;00m\n\u001b[1;32m--> 337\u001b[0m     obj, end \u001b[39m=\u001b[39m \u001b[39mself\u001b[39;49m\u001b[39m.\u001b[39;49mraw_decode(s, idx\u001b[39m=\u001b[39;49m_w(s, \u001b[39m0\u001b[39;49m)\u001b[39m.\u001b[39;49mend())\n\u001b[0;32m    338\u001b[0m     end \u001b[39m=\u001b[39m _w(s, end)\u001b[39m.\u001b[39mend()\n\u001b[0;32m    339\u001b[0m     \u001b[39mif\u001b[39;00m end \u001b[39m!=\u001b[39m \u001b[39mlen\u001b[39m(s):\n",
      "File \u001b[1;32mc:\\Users\\Ananda\\anaconda3\\lib\\json\\decoder.py:353\u001b[0m, in \u001b[0;36mJSONDecoder.raw_decode\u001b[1;34m(self, s, idx)\u001b[0m\n\u001b[0;32m    344\u001b[0m \u001b[39m\u001b[39m\u001b[39m\"\"\"Decode a JSON document from ``s`` (a ``str`` beginning with\u001b[39;00m\n\u001b[0;32m    345\u001b[0m \u001b[39ma JSON document) and return a 2-tuple of the Python\u001b[39;00m\n\u001b[0;32m    346\u001b[0m \u001b[39mrepresentation and the index in ``s`` where the document ended.\u001b[39;00m\n\u001b[1;32m   (...)\u001b[0m\n\u001b[0;32m    350\u001b[0m \n\u001b[0;32m    351\u001b[0m \u001b[39m\"\"\"\u001b[39;00m\n\u001b[0;32m    352\u001b[0m \u001b[39mtry\u001b[39;00m:\n\u001b[1;32m--> 353\u001b[0m     obj, end \u001b[39m=\u001b[39m \u001b[39mself\u001b[39;49m\u001b[39m.\u001b[39;49mscan_once(s, idx)\n\u001b[0;32m    354\u001b[0m \u001b[39mexcept\u001b[39;00m \u001b[39mStopIteration\u001b[39;00m \u001b[39mas\u001b[39;00m err:\n\u001b[0;32m    355\u001b[0m     \u001b[39mraise\u001b[39;00m JSONDecodeError(\u001b[39m\"\u001b[39m\u001b[39mExpecting value\u001b[39m\u001b[39m\"\u001b[39m, s, err\u001b[39m.\u001b[39mvalue) \u001b[39mfrom\u001b[39;00m \u001b[39mNone\u001b[39;00m\n",
      "\u001b[1;31mJSONDecodeError\u001b[0m: Expecting ',' delimiter: line 116 column 5 (char 5395)"
     ]
    }
   ],
   "source": [
    "import json\n",
    "\n",
    "\n",
    "def fix_json_dataset(file_path):\n",
    "    # Read the JSON file\n",
    "    with open(file_path, 'r') as file:\n",
    "        data = json.load(file)\n",
    "\n",
    "    # Remove extra opening and closing brackets\n",
    "    data = [item for item in data if isinstance(item, dict)]\n",
    "\n",
    "    # Write the updated data to the JSON file\n",
    "    with open(file_path, 'w') as file:\n",
    "        json.dump(data, file, indent=4)\n",
    "\n",
    "\n",
    "# Provide the path to your JSON file\n",
    "json_file_path = 'C:/Users/Ananda/OneDrive/repos/NutriPal-ML/codes/output copy.json'\n",
    "\n",
    "# Call the function to fix the JSON dataset\n",
    "fix_json_dataset(json_file_path)\n"
   ]
  }
 ],
 "metadata": {
  "kernelspec": {
   "display_name": "Python 3.9.7 ('base')",
   "language": "python",
   "name": "python3"
  },
  "language_info": {
   "codemirror_mode": {
    "name": "ipython",
    "version": 3
   },
   "file_extension": ".py",
   "mimetype": "text/x-python",
   "name": "python",
   "nbconvert_exporter": "python",
   "pygments_lexer": "ipython3",
   "version": "3.9.7"
  },
  "orig_nbformat": 4,
  "vscode": {
   "interpreter": {
    "hash": "2db04e191085c925f35704d5645a1f5ec8c10b267e24c755d6661bdf1429d0eb"
   }
  }
 },
 "nbformat": 4,
 "nbformat_minor": 2
}
