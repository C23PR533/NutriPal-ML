{
 "cells": [
  {
   "cell_type": "markdown",
   "metadata": {},
   "source": [
    "<h5>Kata paling banyak pada makanan</h5>"
   ]
  },
  {
   "cell_type": "code",
   "execution_count": 2,
   "metadata": {},
   "outputs": [
    {
     "name": "stdout",
     "output_type": "stream",
     "text": [
      "Ayam 147\n",
      "Goreng 93\n",
      "Ikan 76\n",
      "Nasi 65\n",
      "Kue 62\n",
      "Tahu 46\n",
      "Sambal 43\n",
      "Bakar 40\n",
      "Mie 40\n",
      "Telur 37\n",
      "Daging 35\n",
      "Tumis 31\n",
      "Udang 30\n",
      "Sayur 28\n",
      "Pisang 28\n",
      "Es 28\n",
      "Sapi 27\n",
      "Puding 26\n",
      "Bolu 22\n",
      "Bumbu 21\n"
     ]
    }
   ],
   "source": [
    "import pandas as pd\n",
    "from collections import Counter\n",
    "\n",
    "# Membaca file CSV\n",
    "df = pd.read_csv('C:/Users/Ananda/OneDrive/repos/NutriPal-ML/tes.csv')\n",
    "\n",
    "# Menggabungkan semua kata dalam kolom \"Nama\" menjadi satu teks\n",
    "text = ' '.join(df['Nama'])\n",
    "\n",
    "# Menghitung frekuensi kata menggunakan Counter\n",
    "word_counts = Counter(text.split())\n",
    "\n",
    "# Mengambil kata yang paling sering muncul\n",
    "most_common_words = word_counts.most_common(20)  # Ubah angka 10 sesuai kebutuhan\n",
    "\n",
    "# Menampilkan hasil kata yang paling sering muncul\n",
    "for word, count in most_common_words:\n",
    "    print(word, count)\n"
   ]
  },
  {
   "cell_type": "markdown",
   "metadata": {},
   "source": [
    "<h5>Delete makanan kosong</h5>"
   ]
  },
  {
   "cell_type": "code",
   "execution_count": 1,
   "metadata": {},
   "outputs": [
    {
     "name": "stdout",
     "output_type": "stream",
     "text": [
      "The updated data has been saved to C:/Users/Ananda/OneDrive/repos/NutriPal-ML/results/search_results_unique_processed.json.\n"
     ]
    }
   ],
   "source": [
    "import json\n",
    "\n",
    "# Read the JSON data from the file\n",
    "with open(\"C:/Users/Ananda/OneDrive/repos/NutriPal-ML/results/search_results_unique.json\", \"r\") as file:\n",
    "    data = json.load(file)\n",
    "\n",
    "# Remove empty entries\n",
    "data = {key: value for key, value in data.items() if value}\n",
    "\n",
    "# Save the updated data to a new file\n",
    "output_file = \"C:/Users/Ananda/OneDrive/repos/NutriPal-ML/results/search_results_unique_processed.json\"\n",
    "with open(output_file, \"w\") as file:\n",
    "    json.dump(data, file)\n",
    "\n",
    "print(f\"The updated data has been saved to {output_file}.\")\n"
   ]
  },
  {
   "cell_type": "code",
   "execution_count": 3,
   "metadata": {},
   "outputs": [
    {
     "name": "stdout",
     "output_type": "stream",
     "text": [
      "Kebab = 1\n",
      "Gyoza = 3\n",
      "Chicken Katsu = 6\n",
      "Chicken Cordon Bleu = 12\n",
      "Salmon Teriyaki = 2\n",
      "Fish and Chips = 1\n",
      "Fish Cake = 1\n",
      "Okonomiyaki = 1\n",
      "Coleslaw = 13\n",
      "Ratatouille = 3\n",
      "Kimchi = 12\n",
      "Onion Rings = 19\n",
      "Mashed Potato = 3\n",
      "Risotto = 2\n",
      "Pad Thai = 5\n",
      "Loco Moco = 1\n",
      "Bibimbap = 1\n",
      "Bubur Ayam = 1\n",
      "Japchae = 3\n",
      "Miso Soup = 8\n",
      "Burger Bun = 3\n",
      "Peanut Butter Cookies = 9\n",
      "Baguette = 5\n",
      "Takoyaki = 2\n",
      "Pizza Dough = 4\n",
      "Meringue Cookies = 2\n",
      "Cream Cheese = 8\n",
      "Bagel = 3\n",
      "Puff Pastry = 3\n",
      "Apple Strudel = 6\n",
      "Butter Cookies = 5\n",
      "Lemon Cake = 6\n",
      "Red Velvet = 3\n",
      "French Toast = 8\n",
      "Churros = 3\n",
      "Croissant = 12\n",
      "Cinnamon Roll = 8\n",
      "Chocolate Lava Cake = 4\n",
      "Black Forest = 1\n",
      "Tiramisu = 22\n",
      "Carrot Cake = 18\n",
      "Chocolate Mousse Cake = 6\n",
      "Cloud Bread = 1\n",
      "Samosa = 2\n",
      "Tteokbokki = 1\n",
      "Butterscotch Pudding = 4\n",
      "Thai Tea = 2\n",
      "Guacamole = 16\n"
     ]
    }
   ],
   "source": [
    "import json\n",
    "\n",
    "# Read the JSON data\n",
    "with open(\"C:/Users/Ananda/OneDrive/repos/NutriPal-ML/results/search_results_unique_processed.json\", \"r\") as file:\n",
    "    data = json.load(file)\n",
    "\n",
    "# Count the occurrences of each food item\n",
    "food_counts = {}\n",
    "for food_category in data:\n",
    "    food_items = data[food_category]\n",
    "    for food_item in food_items:\n",
    "        food_name = food_item[\"food_name\"]\n",
    "        if food_name in food_counts:\n",
    "            food_counts[food_name] += 1\n",
    "        else:\n",
    "            food_counts[food_name] = 1\n",
    "\n",
    "# Print the food counts\n",
    "for food_name, count in food_counts.items():\n",
    "    print(f\"{food_name} = {count}\")\n"
   ]
  },
  {
   "cell_type": "code",
   "execution_count": 4,
   "metadata": {},
   "outputs": [
    {
     "name": "stdout",
     "output_type": "stream",
     "text": [
      "The food IDs have been saved to food_ids.json.\n"
     ]
    }
   ],
   "source": [
    "import json\n",
    "\n",
    "# Read the JSON data\n",
    "with open(\"C:/Users/Ananda/OneDrive/repos/NutriPal-ML/results/search_results_unique_processed.json\", \"r\") as file:\n",
    "    data = json.load(file)\n",
    "\n",
    "# Collect the food IDs\n",
    "food_ids = []\n",
    "for food_category in data:\n",
    "    food_items = data[food_category]\n",
    "    for food_item in food_items:\n",
    "        food_id = food_item[\"food_id\"]\n",
    "        food_ids.append(food_id)\n",
    "\n",
    "# Create a dictionary with food IDs\n",
    "food_id_dict = {\"food_ids\": food_ids}\n",
    "\n",
    "# Save the food IDs to a new JSON file\n",
    "output_file = \"food_ids.json\"\n",
    "with open(output_file, \"w\") as file:\n",
    "    json.dump(food_id_dict, file)\n",
    "\n",
    "print(f\"The food IDs have been saved to {output_file}.\")\n"
   ]
  },
  {
   "cell_type": "code",
   "execution_count": 6,
   "metadata": {},
   "outputs": [
    {
     "ename": "KeyError",
     "evalue": "'access_token'",
     "output_type": "error",
     "traceback": [
      "\u001b[1;31m---------------------------------------------------------------------------\u001b[0m",
      "\u001b[1;31mKeyError\u001b[0m                                  Traceback (most recent call last)",
      "Cell \u001b[1;32mIn[6], line 56\u001b[0m\n\u001b[0;32m     53\u001b[0m results \u001b[38;5;241m=\u001b[39m []\n\u001b[0;32m     55\u001b[0m \u001b[38;5;28;01mfor\u001b[39;00m food_id \u001b[38;5;129;01min\u001b[39;00m food_ids:\n\u001b[1;32m---> 56\u001b[0m     result \u001b[38;5;241m=\u001b[39m \u001b[43msearch_food\u001b[49m\u001b[43m(\u001b[49m\u001b[43mfood_id\u001b[49m\u001b[43m)\u001b[49m\n\u001b[0;32m     57\u001b[0m     results\u001b[38;5;241m.\u001b[39mappend(result)\n\u001b[0;32m     59\u001b[0m \u001b[38;5;66;03m# Save the results to a JSON file\u001b[39;00m\n",
      "Cell \u001b[1;32mIn[6], line 28\u001b[0m, in \u001b[0;36msearch_food\u001b[1;34m(search_expression)\u001b[0m\n\u001b[0;32m     27\u001b[0m \u001b[38;5;28;01mdef\u001b[39;00m \u001b[38;5;21msearch_food\u001b[39m(search_expression):\n\u001b[1;32m---> 28\u001b[0m     access_token \u001b[38;5;241m=\u001b[39m \u001b[43mget_access_token\u001b[49m\u001b[43m(\u001b[49m\u001b[43m)\u001b[49m\n\u001b[0;32m     30\u001b[0m     api_url \u001b[38;5;241m=\u001b[39m \u001b[38;5;124m\"\u001b[39m\u001b[38;5;124mhttps://platform.fatsecret.com/rest/server.api\u001b[39m\u001b[38;5;124m\"\u001b[39m\n\u001b[0;32m     31\u001b[0m     params \u001b[38;5;241m=\u001b[39m {\n\u001b[0;32m     32\u001b[0m         \u001b[38;5;124m\"\u001b[39m\u001b[38;5;124mmethod\u001b[39m\u001b[38;5;124m\"\u001b[39m: \u001b[38;5;124m\"\u001b[39m\u001b[38;5;124mfood.get.v3\u001b[39m\u001b[38;5;124m\"\u001b[39m,\n\u001b[0;32m     33\u001b[0m         \u001b[38;5;124m\"\u001b[39m\u001b[38;5;124mfood_id\u001b[39m\u001b[38;5;124m\"\u001b[39m: search_expression,\n\u001b[0;32m     34\u001b[0m         \u001b[38;5;124m\"\u001b[39m\u001b[38;5;124mformat\u001b[39m\u001b[38;5;124m\"\u001b[39m: \u001b[38;5;124m\"\u001b[39m\u001b[38;5;124mjson\u001b[39m\u001b[38;5;124m\"\u001b[39m\n\u001b[0;32m     35\u001b[0m     }\n",
      "Cell \u001b[1;32mIn[6], line 21\u001b[0m, in \u001b[0;36mget_access_token\u001b[1;34m()\u001b[0m\n\u001b[0;32m     13\u001b[0m data \u001b[38;5;241m=\u001b[39m {\n\u001b[0;32m     14\u001b[0m     \u001b[38;5;124m\"\u001b[39m\u001b[38;5;124mgrant_type\u001b[39m\u001b[38;5;124m\"\u001b[39m: \u001b[38;5;124m\"\u001b[39m\u001b[38;5;124mclient_credentials\u001b[39m\u001b[38;5;124m\"\u001b[39m,\n\u001b[0;32m     15\u001b[0m     \u001b[38;5;124m\"\u001b[39m\u001b[38;5;124mclient_id\u001b[39m\u001b[38;5;124m\"\u001b[39m: client_id,\n\u001b[0;32m     16\u001b[0m     \u001b[38;5;124m\"\u001b[39m\u001b[38;5;124mclient_secret\u001b[39m\u001b[38;5;124m\"\u001b[39m: client_secret,\n\u001b[0;32m     17\u001b[0m     \u001b[38;5;124m\"\u001b[39m\u001b[38;5;124mscope\u001b[39m\u001b[38;5;124m\"\u001b[39m: \u001b[38;5;124m\"\u001b[39m\u001b[38;5;124mbasic\u001b[39m\u001b[38;5;124m\"\u001b[39m\n\u001b[0;32m     18\u001b[0m }\n\u001b[0;32m     20\u001b[0m response \u001b[38;5;241m=\u001b[39m requests\u001b[38;5;241m.\u001b[39mpost(token_url, data\u001b[38;5;241m=\u001b[39mdata)\n\u001b[1;32m---> 21\u001b[0m access_token \u001b[38;5;241m=\u001b[39m \u001b[43mresponse\u001b[49m\u001b[38;5;241;43m.\u001b[39;49m\u001b[43mjson\u001b[49m\u001b[43m(\u001b[49m\u001b[43m)\u001b[49m\u001b[43m[\u001b[49m\u001b[38;5;124;43m\"\u001b[39;49m\u001b[38;5;124;43maccess_token\u001b[39;49m\u001b[38;5;124;43m\"\u001b[39;49m\u001b[43m]\u001b[49m\n\u001b[0;32m     22\u001b[0m \u001b[38;5;28;01mreturn\u001b[39;00m access_token\n",
      "\u001b[1;31mKeyError\u001b[0m: 'access_token'"
     ]
    }
   ],
   "source": [
    "import requests\n",
    "import json\n",
    "\n",
    "# Define your Client ID and Client Secret\n",
    "client_id = \"54de70f003a74802a2b6acfbaf8710aa\"\n",
    "client_secret = \"2be5535f5e7e44e195dfe88f934741cf\"\n",
    "\n",
    "# Get an access token\n",
    "\n",
    "\n",
    "def get_access_token():\n",
    "    token_url = \"https://oauth.fatsecret.com/connect/token\"\n",
    "    data = {\n",
    "        \"grant_type\": \"client_credentials\",\n",
    "        \"client_id\": client_id,\n",
    "        \"client_secret\": client_secret,\n",
    "        \"scope\": \"basic\"\n",
    "    }\n",
    "\n",
    "    response = requests.post(token_url, data=data)\n",
    "    access_token = response.json()[\"access_token\"]\n",
    "    return access_token\n",
    "\n",
    "# Search for food\n",
    "\n",
    "\n",
    "def search_food(search_expression):\n",
    "    access_token = get_access_token()\n",
    "\n",
    "    api_url = \"https://platform.fatsecret.com/rest/server.api\"\n",
    "    params = {\n",
    "        \"method\": \"food.get.v3\",\n",
    "        \"food_id\": search_expression,\n",
    "        \"format\": \"json\"\n",
    "    }\n",
    "    headers = {\n",
    "        \"Authorization\": f\"Bearer {access_token}\"\n",
    "    }\n",
    "\n",
    "    response = requests.post(api_url, params=params, headers=headers)\n",
    "    search_results = response.json()\n",
    "    return search_results\n",
    "\n",
    "\n",
    "# Read the food_ids from id.json\n",
    "filename = \"C:/Users/Ananda/OneDrive/repos/NutriPal-ML/codes/food_ids.json\"\n",
    "\n",
    "with open(filename, \"r\") as file:\n",
    "    data = json.load(file)\n",
    "    food_ids = data[\"food_ids\"]\n",
    "\n",
    "# Perform food search for each food_id and store the results\n",
    "results = []\n",
    "\n",
    "for food_id in food_ids:\n",
    "    result = search_food(food_id)\n",
    "    results.append(result)\n",
    "\n",
    "# Save the results to a JSON file\n",
    "filename = \"C:/Users/Ananda/OneDrive/repos/NutriPal-ML/codes/get_results_new.json\"\n",
    "\n",
    "with open(filename, \"w\") as file:\n",
    "    json.dump(results, file, indent=4)\n",
    "\n",
    "print(f\"Search results saved to {filename}.\")\n"
   ]
  }
 ],
 "metadata": {
  "kernelspec": {
   "display_name": "Python 3.9.7 ('base')",
   "language": "python",
   "name": "python3"
  },
  "language_info": {
   "codemirror_mode": {
    "name": "ipython",
    "version": 3
   },
   "file_extension": ".py",
   "mimetype": "text/x-python",
   "name": "python",
   "nbconvert_exporter": "python",
   "pygments_lexer": "ipython3",
   "version": "3.9.7"
  },
  "orig_nbformat": 4,
  "vscode": {
   "interpreter": {
    "hash": "2db04e191085c925f35704d5645a1f5ec8c10b267e24c755d6661bdf1429d0eb"
   }
  }
 },
 "nbformat": 4,
 "nbformat_minor": 2
}
